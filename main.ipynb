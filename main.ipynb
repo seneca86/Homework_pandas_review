{
 "cells": [
  {
   "attachments": {},
   "cell_type": "markdown",
   "metadata": {},
   "source": [
    "## Homework pandas review\n",
    "\n",
    "### Instructions\n",
    "\n",
    "* You will provide a .py or .ipynb file; __it is critical that the code runs__ (i.e. if I press the \"Run\" button there should be no error message) - if it does not, you will lose most of the grade\n",
    "\n",
    "* If you do not know how to answer a question, just skip it or write something simple that works (even if uncomplete), but please do not leave a piece of code that breaks\n",
    "\n",
    "* You do not need to write text, just code; please `print` important results (otherwise they are executed but do not get printed)\n",
    "\n",
    "* Doing the assignments in groups is strongly recommended; please do not copy among different groups: if I detect errors that have been copy pasted and that are suspiciously similar across different submission the grade will be penalized\n",
    "\n",
    "* Just send one submission per group includind the names of the memembers\n",
    "\n",
    "* You may use whatever IDE you want (VSCode, Replit, or GitHub Codespaces), but the submission of the file must be done through __Turnitin__ in Blackboard\n",
    "\n",
    "* When I ask you to \"comment\" on something, just write one or two concise lines, and actually comment the lines (prepend a # symbol); please be crisp and avoid long paragraphs\n",
    "\n",
    "* If there are several ways to do something, or the instructions are open-ended, please use your freedom; __creativity will receive bonus points__"
   ]
  },
  {
   "attachments": {},
   "cell_type": "markdown",
   "metadata": {},
   "source": [
    "## Questions\n",
    "### Part I\n",
    "(1) Create three list called `company`, `country`, `industry` with four elements each corresponding to values for those categories; e.g. for `company` the corresponding list could be `('Amazon', 'Aramco', 'Blackrock', 'Alibaba')`"
   ]
  },
  {
   "attachments": {},
   "cell_type": "markdown",
   "metadata": {},
   "source": [
    "(2) Build a dictionary where the keys are `company`, `country`, `industry`"
   ]
  },
  {
   "attachments": {},
   "cell_type": "markdown",
   "metadata": {},
   "source": [
    "(3) Build a dataframe from that dictionary; the columns must be `company`, `country`, `ìndustry`"
   ]
  },
  {
   "attachments": {},
   "cell_type": "markdown",
   "metadata": {},
   "source": [
    "(4) Add a column called earnings with the values `(100, 200, 300, 150)`"
   ]
  },
  {
   "attachments": {},
   "cell_type": "markdown",
   "metadata": {},
   "source": [
    "(5) Print only the rows corresponding to companies whose earnings are above 120"
   ]
  },
  {
   "attachments": {},
   "cell_type": "markdown",
   "metadata": {},
   "source": [
    "(6) Print the third row using `iloc`"
   ]
  },
  {
   "attachments": {},
   "cell_type": "markdown",
   "metadata": {},
   "source": [
    "(7) Print the columns `company` and `earnings` exclusively by using `.loc`"
   ]
  },
  {
   "attachments": {},
   "cell_type": "markdown",
   "metadata": {},
   "source": [
    "(8) Drop the `country` column"
   ]
  },
  {
   "attachments": {},
   "cell_type": "markdown",
   "metadata": {},
   "source": [
    "### Part II"
   ]
  },
  {
   "attachments": {},
   "cell_type": "markdown",
   "metadata": {},
   "source": [
    "(1) Download the `FremPreg.csv` file that you can find in this repository or in the first session repository"
   ]
  },
  {
   "cell_type": "markdown",
   "metadata": {},
   "source": [
    "\n",
    "(2) Read it with the command `pd.read_csv"
   ]
  },
  {
   "attachments": {},
   "cell_type": "markdown",
   "metadata": {},
   "source": [
    "(3) Print it"
   ]
  },
  {
   "cell_type": "markdown",
   "metadata": {},
   "source": []
  }
 ],
 "metadata": {
  "kernelspec": {
   "display_name": "Python 3",
   "language": "python",
   "name": "python3"
  },
  "language_info": {
   "codemirror_mode": {
    "name": "ipython",
    "version": 3
   },
   "file_extension": ".py",
   "mimetype": "text/x-python",
   "name": "python",
   "nbconvert_exporter": "python",
   "pygments_lexer": "ipython3",
   "version": "3.11.1"
  },
  "orig_nbformat": 4,
  "vscode": {
   "interpreter": {
    "hash": "949777d72b0d2535278d3dc13498b2535136f6dfe0678499012e853ee9abcab1"
   }
  }
 },
 "nbformat": 4,
 "nbformat_minor": 2
}
